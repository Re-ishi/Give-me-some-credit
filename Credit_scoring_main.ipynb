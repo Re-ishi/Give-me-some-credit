{
 "cells": [
  {
   "cell_type": "code",
   "execution_count": 1,
   "metadata": {},
   "outputs": [],
   "source": [
    "import pandas as pd\n",
    "import numpy as np\n",
    "import matplotlib.pyplot as plt\n",
    "import seaborn as sns\n",
    "from sklearn.ensemble import RandomForestRegressor\n",
    "from sklearn.metrics import roc_auc_score"
   ]
  },
  {
   "cell_type": "markdown",
   "metadata": {},
   "source": [
    "When the data was manually checked, below observations were found: <br> \n",
    "1. There were NA values in 'MonthlyIncome' and 'NumberOfDependents'. I decided to replace NA values of 'MonthlyIncome' with it's median and NA values of 'NumberOfDependents' with 0.<br>\n",
    "<br>\n",
    "2. 'NumberOfTimes90DaysLate' and 'NumberOfTime30-59DaysPastDueNotWorse' had values 96 and 98. If we think about it, this seems to impossible since 96*90/365 ~ 24 years. When I further checked such records, I saw that 'RevolvingUtilizationOfUnsecuredLines' was 0.999 for all such records. Since the count of all such records was very less as compared to our whole sample count, I decided to drop such records from our analysis. "
   ]
  },
  {
   "cell_type": "code",
   "execution_count": 2,
   "metadata": {
    "collapsed": true
   },
   "outputs": [],
   "source": [
    "def clean(df):\n",
    "    '''\n",
    "    Function to clean our data\n",
    "    It takes dataframe as input and returns back a cleaned dataframe\n",
    "    '''\n",
    "    #print(df)\n",
    "    #remove rows with 98 and 96 in our data\n",
    "    df = df[df[\"NumberOfTimes90DaysLate\"] != 98]\n",
    "    #print(df)\n",
    "    df = df[df[\"NumberOfTimes90DaysLate\"] != 96]\n",
    "    #print(df)\n",
    "    \n",
    "    #fill NA values with it's median for 'MonthlyIncome'\n",
    "    df[\"MonthlyIncome\"].fillna(df[\"MonthlyIncome\"].median(), inplace=True)\n",
    "    #fill NA values with zeroes for 'NumberOfDependents'\n",
    "    df[\"NumberOfDependents\"].fillna(0, inplace=True)\n",
    "    #print(df)\n",
    "    return df\n"
   ]
  },
  {
   "cell_type": "code",
   "execution_count": 3,
   "metadata": {
    "collapsed": true
   },
   "outputs": [],
   "source": [
    "def plot_dlq(df):\n",
    "    '''\n",
    "    The plot_dlq() function will be used for plotting the total number of records with SeriousDlqin2yrs and no SeriousDlqin2yrs\n",
    "    It takes in the dataframe and displays the pie chart.\n",
    "    '''\n",
    "    dlq_df = df.groupby(['SeriousDlqin2yrs']).size()\n",
    "    count_dlq = dlq_df[1]\n",
    "    count_nondlq = dlq_df[0]\n",
    "    print 'Based on the sample of data, {} people were delinquent whereas {} were not.\\n'.format(count_dlq, count_nondlq)\n",
    "    print dlq_df\n",
    "    \n",
    "    explode = (0.1, 0)\n",
    "    labels = 'Non Delinquent', 'Delinquent'\n",
    "    colors = ['gold', 'lightskyblue']\n",
    "\n",
    "    pie_chart = dlq_df.plot.pie(explode=explode, labels=labels, colors=colors,\n",
    "            autopct='%1.2f%%', shadow=True, startangle = 90)\n",
    "    pie_chart.axis('equal')\n",
    "    pie_chart.set_ylabel('')\n",
    "    plt.show()"
   ]
  },
  {
   "cell_type": "code",
   "execution_count": 4,
   "metadata": {
    "collapsed": true
   },
   "outputs": [],
   "source": [
    "def RF(train):\n",
    "    '''\n",
    "    Random Forest Regression and calculating Coefficient of determination R^2 of the prediction and AUC-ROC score\n",
    "    '''\n",
    "    Y_train = train[\"SeriousDlqin2yrs\"]\n",
    "    X_train = train.drop(\"SeriousDlqin2yrs\",axis=1)\n",
    "\n",
    "    random_forest = RandomForestRegressor(n_estimators = 200, oob_score=True)\n",
    "    random_forest.fit(X_train, Y_train)\n",
    "    \n",
    "    \n",
    "    print random_forest.score(X_train, Y_train)\n",
    "    #print random_forest.get_params()\n",
    "    print \"AUC - ROC : \", roc_auc_score(Y_train,random_forest.oob_prediction_)\n",
    "    return random_forest"
   ]
  },
  {
   "cell_type": "code",
   "execution_count": 16,
   "metadata": {
    "collapsed": true
   },
   "outputs": [],
   "source": [
    "df_training = pd.read_csv('cs-training.csv')\n",
    "df_testing = pd.read_csv('cs-test.csv')\n",
    "# BASIC OBSERVATIONS OF DATA\n",
    "#print df_training.info()\n",
    "#print\n",
    "#print\n",
    "#print df_training.describe()"
   ]
  },
  {
   "cell_type": "code",
   "execution_count": 17,
   "metadata": {},
   "outputs": [],
   "source": [
    "df_training = clean(df_training)"
   ]
  },
  {
   "cell_type": "code",
   "execution_count": 18,
   "metadata": {},
   "outputs": [],
   "source": [
    "df_testing = clean(df_testing)"
   ]
  },
  {
   "cell_type": "code",
   "execution_count": 19,
   "metadata": {},
   "outputs": [
    {
     "name": "stdout",
     "output_type": "stream",
     "text": [
      "Based on the sample of data, 9879 people were delinquent whereas 139852 were not.\n",
      "\n",
      "SeriousDlqin2yrs\n",
      "0    139852\n",
      "1      9879\n",
      "dtype: int64\n"
     ]
    },
    {
     "data": {
      "image/png": "[encoded data removed]",
      "text/plain": [
       "<matplotlib.figure.Figure at 0x9cb3430>"
      ]
     },
     "metadata": {},
     "output_type": "display_data"
    }
   ],
   "source": [
    "plot_dlq(df_training)"
   ]
  },
  {
   "cell_type": "markdown",
   "metadata": {},
   "source": [
    "This 6.60 % of people, although seems small; but together they can incur a significant loss for the credit company. "
   ]
  },
  {
   "cell_type": "markdown",
   "metadata": {},
   "source": [
    "In order to prevent this loss, a model needs to be made to predict Serious Delinquency of a person in the coming 2yrs. Using this model, the person can take some appropriate steps and draft a financial plan based on the probability to avoid financial hardships. This model can even be used by banks/ credit card companies in their decision making."
   ]
  },
  {
   "cell_type": "markdown",
   "metadata": {},
   "source": [
    "We will be using Random Forest Regression for building this model."
   ]
  },
  {
   "cell_type": "code",
   "execution_count": 7,
   "metadata": {},
   "outputs": [
    {
     "name": "stdout",
     "output_type": "stream",
     "text": [
      "0.885815607\n",
      "{'warm_start': False, 'oob_score': True, 'n_jobs': 1, 'verbose': 0, 'max_leaf_nodes': None, 'bootstrap': True, 'min_samples_leaf': 1, 'n_estimators': 200, 'min_samples_split': 2, 'min_weight_fraction_leaf': 0.0, 'criterion': 'mse', 'random_state': None, 'min_impurity_split': 1e-07, 'max_features': 'auto', 'max_depth': None}\n",
      "AUC - ROC :  0.834119567515\n"
     ]
    }
   ],
   "source": [
    "rf_fit = RF(df_training)"
   ]
  },
  {
   "cell_type": "code",
   "execution_count": 10,
   "metadata": {
    "collapsed": true
   },
   "outputs": [],
   "source": [
    "X_test  = df_testing.drop(\"SeriousDlqin2yrs\",axis=1)\n",
    "Y_pred = rf_fit.predict(X_test)\n",
    "#print(Y_pred[0:25])"
   ]
  },
  {
   "cell_type": "code",
   "execution_count": 11,
   "metadata": {
    "collapsed": true
   },
   "outputs": [],
   "source": [
    "prediction = pd.DataFrame({\n",
    "        \"Id\": df_testing['Unnamed: 0'],\n",
    "        \"Probability\": Y_pred\n",
    "    })"
   ]
  },
  {
   "cell_type": "code",
   "execution_count": 13,
   "metadata": {
    "collapsed": true
   },
   "outputs": [],
   "source": [
    "prediction.to_csv('submission.csv', index=False)"
   ]
  },
  {
   "cell_type": "code",
   "execution_count": null,
   "metadata": {
    "collapsed": true
   },
   "outputs": [],
   "source": []
  }
 ],
 "metadata": {
  "kernelspec": {
   "display_name": "Python 2",
   "language": "python",
   "name": "python2"
  },
  "language_info": {
   "codemirror_mode": {
    "name": "ipython",
    "version": 2
   },
   "file_extension": ".py",
   "mimetype": "text/x-python",
   "name": "python",
   "nbconvert_exporter": "python",
   "pygments_lexer": "ipython2",
   "version": "2.7.13"
  }
 },
 "nbformat": 4,
 "nbformat_minor": 2
}
